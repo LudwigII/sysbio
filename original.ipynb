{
 "cells": [
  {
   "cell_type": "markdown",
   "metadata": {},
   "source": [
    "# Modelling the Basic Dynamics of an Inflenza Virus Infection"
   ]
  },
  {
   "cell_type": "markdown",
   "metadata": {},
   "source": [
    "---"
   ]
  },
  {
   "cell_type": "markdown",
   "metadata": {},
   "source": [
    "These are the Equations of the mathmatical model of \"Modeling Within-Host Dynamics of Influenza VirusInfection Including Immune Responses\" by Pawlek et al.\n",
    "\n",
    "$$\\begin{aligned}\n",
    "&\\frac{dT}{dt}=-\\beta VT-\\phi FT+\\rho R\n",
    "\\\\\n",
    "&\\frac{dI}{dt}=\\beta VT-\\delta_A I-\\kappa IF\n",
    "\\\\\n",
    "&\\frac{dR}{dt}=\\phi FT-\\rho R\n",
    "\\\\\n",
    "&\\frac{dV}{dt}=pI-cV\n",
    "\\\\\n",
    "&\\frac{dF}{dt}=qI-dF\n",
    "\\end{aligned}$$\n",
    "\n",
    "Using the improved equation for delta:\n",
    "$$\\begin{aligned}\n",
    "&\\delta_A=\\delta_Iexp(\\sigma(t-\\mu))\n",
    "\\end{aligned}$$\n",
    "\n",
   ]
  },
  {
   "cell_type": "code",
   "execution_count": 5,
   "metadata": {
    "ExecuteTime": {
     "end_time": "2021-10-21T09:10:06.001875Z",
     "start_time": "2021-10-21T09:10:05.320424Z"
    }
   },
   "outputs": [
    {
     "data": {
      "image/png": "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",
      "text/plain": [
       "<Figure size 432x288 with 1 Axes>"
      ]
     },
     "metadata": {
      "needs_background": "light"
     },
     "output_type": "display_data"
    }
   ],
   "source": [
    "import numpy as np\n",
    "import pylab as pl\n",
    "from scipy.integrate import odeint\n",
    "\n",
    "#Here the Parameters are defined (Pony 1)\n",
    "b = 8.3*10**-6\n",
    "fi = 6.9*10**-2\n",
    "ro = 1*10**-2\n",
    "dltI = 2\n",
    "k = 1.6\n",
    "p = 7.7*10**-5\n",
    "c = 20\n",
    "q = 6.1*10**-10\n",
    "d = 0.85\n",
    "\n",
    "# exponential function for the immune response\n",
    "mhy=6 #this is the adaptive immune system for pony 2 but it fits Pony 1 better\n",
    "sig=1\n",
    "dltA=dltI\n",
    "\n",
    "# Here the ODE System is defined\n",
    "def f(xy):\n",
    "    T, I, R, V, F = xy\n",
    "    Tp = -b*V*T - fi*F*T + ro*R\n",
    "    Ip = b*V*T -dltA*I -k*I*F\n",
    "    Rp = fi*F*T - ro*R\n",
    "    Vp = p*I -c*V\n",
    "    Fp = q*I -d*F\n",
    "    return np.array([Tp, Ip, Rp, Vp, Fp])\n",
    "\n",
    "\n",
    "# Solving the ODE using Heun's method\n",
    "\n",
    "Tmax =10    #time in days\n",
    "dt = 0.01    # integration time step\n",
    "dt2 = dt/2\n",
    "\n",
    "\n",
    "xy = np.array([3.5*10**11, 0, 0, 6, 1]) # Value for Viral load is just chosen by looking at the graph\n",
    "tvec = np.arange(0,Tmax,dt)\n",
    "tvec2 = np.zeros(1)\n",
    "xy_out = xy\n",
    "for i in range(tvec.size):\n",
    "    dltA=dltI*np.exp(sig*((i*Tmax)/tvec.size-mhy))\n",
    "    xyi = xy + dt*f(xy)          \n",
    "    xy = xy + dt2*(f(xy)+f(xyi)) \n",
    "    xy_out = np.vstack([xy_out,xy])\n",
    "    tvec2 = np.vstack([tvec2,tvec[i]])\n",
    "\n",
    "\n",
    "    \n",
    "# Plotting the Graph\n",
    "\n",
    "#pl.plot(tvec2,xy_out[:,0],label='T')\n",
    "#pl.plot(tvec2,xy_out[:,1],label='I')\n",
    "#pl.plot(tvec2,xy_out[:,2],label='R')\n",
    "pl.plot(tvec2,np.log10(xy_out[:,3]),label='V')\n",
    "#pl.plot(tvec2,xy_out[:,4],label='F')\n",
    "pl.legend()\n",
    "pl.ylim(0,8)\n",
    "pl.xlabel('Time in days')\n",
    "#pl.ylabel('T, I, R, V, F')\n",
    "pl.ylabel('Cell count')\n",
    "pl.show()\n",
    "\n",
    "\n"
   ]
  },
  {
   "cell_type": "code",
   "execution_count": null,
   "metadata": {},
   "outputs": [],
   "source": []
  }
 ],
 "metadata": {
  "anaconda-cloud": {},
  "hide_input": false,
  "kernelspec": {
   "display_name": "Python 3",
   "language": "python",
   "name": "python3"
  },
  "language_info": {
   "codemirror_mode": {
    "name": "ipython",
    "version": 3
   },
   "file_extension": ".py",
   "mimetype": "text/x-python",
   "name": "python",
   "nbconvert_exporter": "python",
   "pygments_lexer": "ipython3",
   "version": "3.9.7"
  },
  "toc": {
   "base_numbering": 1,
   "nav_menu": {},
   "number_sections": true,
   "sideBar": true,
   "skip_h1_title": false,
   "title_cell": "Table of Contents",
   "title_sidebar": "Contents",
   "toc_cell": false,
   "toc_position": {},
   "toc_section_display": true,
   "toc_window_display": false
  },
  "varInspector": {
   "cols": {
    "lenName": 16,
    "lenType": 16,
    "lenVar": 40
   },
   "kernels_config": {
    "python": {
     "delete_cmd_postfix": "",
     "delete_cmd_prefix": "del ",
     "library": "var_list.py",
     "varRefreshCmd": "print(var_dic_list())"
    },
    "r": {
     "delete_cmd_postfix": ") ",
     "delete_cmd_prefix": "rm(",
     "library": "var_list.r",
     "varRefreshCmd": "cat(var_dic_list()) "
    }
   },
   "types_to_exclude": [
    "module",
    "function",
    "builtin_function_or_method",
    "instance",
    "_Feature"
   ],
   "window_display": false
  }
 },
 "nbformat": 4,
 "nbformat_minor": 1
}
